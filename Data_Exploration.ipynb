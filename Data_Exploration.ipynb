{
  "nbformat": 4,
  "nbformat_minor": 0,
  "metadata": {
    "kernelspec": {
      "name": "python3",
      "display_name": "Python 3"
    },
    "colab": {
      "name": "Data Exploration.ipynb",
      "provenance": [],
      "collapsed_sections": []
    },
    "accelerator": "GPU"
  },
  "cells": [
    {
      "cell_type": "markdown",
      "metadata": {
        "id": "ZgKT_8bkgR7V"
      },
      "source": [
        "\r\n",
        "\r\n",
        "---\r\n",
        "\r\n",
        "\r\n",
        "\r\n",
        "# IMPORTS\r\n",
        "\r\n",
        "\r\n",
        "\r\n",
        "---\r\n",
        "\r\n"
      ]
    },
    {
      "cell_type": "code",
      "metadata": {
        "id": "hVp60PoVgR7m"
      },
      "source": [
        "import os\n",
        "import numpy as np\n",
        "import pandas as pd\n",
        "import seaborn as sns\n",
        "import matplotlib.pyplot as plt"
      ],
      "execution_count": 123,
      "outputs": []
    },
    {
      "cell_type": "markdown",
      "metadata": {
        "id": "Gw3P191pgR7o"
      },
      "source": [
        "\n",
        "\n",
        "---\n",
        "\n",
        "\n",
        "# Arranging the Data\n",
        "\n",
        "\n",
        "---\n",
        "\n",
        "Attributes:\n",
        "\n",
        "'X', 'T', 'S', 'Y', 'M', 'P', 'K', 'Notes'\n",
        "\n",
        "*   X: Number of tunes.\n",
        "*   T: The title of composition.\n",
        "*   S: The author / reference.\n",
        "*   Y: Rest of the upper staff.\n",
        "*   M: Time signature of melody.\n",
        "*   P: A section of the Melody\n",
        "*   K: The key of melody.\n",
        "*   Notes: The notes in particular section.\n",
        "\n",
        "\n",
        "---\n",
        "\n"
      ]
    },
    {
      "cell_type": "code",
      "metadata": {
        "id": "uH6giVHv6Sgc"
      },
      "source": [
        "data_dict = {'T': [], 'X': [], 'Y': [], 'S': [], 'Melodies': []}\r\n",
        "\r\n",
        "\r\n",
        "with open('/content/ABC_DATA.txt') as f:\r\n",
        "\r\n",
        "    lines = f.readlines()\r\n",
        "\r\n",
        "    melody = {'M':[], 'P':[], 'K': [], 'Notes': []}\r\n",
        "    data_melody = False\r\n",
        "    is_notes = False\r\n",
        "    notes = ''\r\n",
        "\r\n",
        "    for line in lines:\r\n",
        "\r\n",
        "      if line[0] == 'X':\r\n",
        "        i = int(line.split(':')[1])\r\n",
        "        diff = i - len(data_dict['Y'])\r\n",
        "        data_dict['Y'].extend([None] * diff)\r\n",
        "        data_dict['X'].append(int(line.split(':')[1].rstrip()))\r\n",
        "        data_melody = False\r\n",
        "        is_notes = False\r\n",
        "        data_dict['Melodies'].append(melody)\r\n",
        "        melody = {'M':[], 'P':[], 'K': [], 'Notes': []}\r\n",
        "\r\n",
        "      elif line[0] == '%':\r\n",
        "        continue\r\n",
        "\r\n",
        "      elif line[0] == 'M' or data_melody:\r\n",
        "        data_melody = True\r\n",
        "\r\n",
        "        try:\r\n",
        "          key, val = line.split(':')\r\n",
        "          if key in melody:\r\n",
        "            is_notes = False\r\n",
        "            if notes != '':\r\n",
        "              melody['Notes'].append(notes.rstrip())\r\n",
        "            melody[key].append(val.rstrip())\r\n",
        "          else:\r\n",
        "            is_notes = True\r\n",
        "            notes += line\r\n",
        "        except:\r\n",
        "          is_notes = True\r\n",
        "          notes += line\r\n",
        "      \r\n",
        "      else:\r\n",
        "        key, val = line.split(':')\r\n",
        "        if key in data_dict:\r\n",
        "          data_dict[key].append(val.rstrip())\r\n",
        "          "
      ],
      "execution_count": 108,
      "outputs": []
    },
    {
      "cell_type": "code",
      "metadata": {
        "colab": {
          "base_uri": "https://localhost:8080/"
        },
        "id": "70E-904egtDI",
        "outputId": "04607e80-7de5-44b2-a90d-df871956bc9d"
      },
      "source": [
        "for k in data_dict:\r\n",
        "    print(k, str(len(data_dict[k])))"
      ],
      "execution_count": 109,
      "outputs": [
        {
          "output_type": "stream",
          "text": [
            "T 340\n",
            "X 340\n",
            "Y 340\n",
            "S 340\n",
            "Melodies 340\n"
          ],
          "name": "stdout"
        }
      ]
    },
    {
      "cell_type": "markdown",
      "metadata": {
        "id": "hU4mT4H4N0c8"
      },
      "source": [
        "\r\n",
        "\r\n",
        "---\r\n",
        "\r\n",
        "\r\n",
        "# Creating Pandas DataFrame\r\n",
        "\r\n",
        "\r\n",
        "\r\n",
        "---\r\n",
        "\r\n"
      ]
    },
    {
      "cell_type": "code",
      "metadata": {
        "id": "U5w2EqHpOA_I"
      },
      "source": [
        "columns = ['X', 'T', 'S', 'Y', 'M', 'P', 'K', 'Notes', 'n_M', 'n_P', 'n_K', 'n_Notes']\r\n",
        "x_list, t_list, s_list, y_list = data_dict['X'], data_dict['T'], data_dict['S'], data_dict['Y']\r\n",
        "m_list, p_list, k_list, notes_list = [], [], [], []\r\n",
        "n_M_list, n_P_list, n_K_list, n_Notes_list = [], [], [], []\r\n",
        "\r\n",
        "for dic in data_dict['Melodies'][1:]:\r\n",
        "  for key, value in dic.items():\r\n",
        "    if key == 'M':\r\n",
        "      m_list.append(value)\r\n",
        "      n_M_list.append(len(value))\r\n",
        "    if key == 'P':\r\n",
        "      p_list.append(value)\r\n",
        "      n_P_list.append(len(value))\r\n",
        "    if key == 'K':\r\n",
        "      k_list.append(value)\r\n",
        "      n_K_list.append(len(value))\r\n",
        "    if key == 'Notes':\r\n",
        "      notes_list.append(value)\r\n",
        "      n_Notes_list.append(len(value))\r\n",
        "\r\n",
        "feature_list = [x_list[:-1], t_list[:-1], s_list[:-1], y_list[:-1], m_list, p_list, k_list, notes_list, n_M_list, n_P_list, n_K_list, n_Notes_list]"
      ],
      "execution_count": 110,
      "outputs": []
    },
    {
      "cell_type": "code",
      "metadata": {
        "colab": {
          "base_uri": "https://localhost:8080/"
        },
        "id": "6XiUsewDfakZ",
        "outputId": "8794663e-7477-4c3d-b8f1-af5f8b6b8bae"
      },
      "source": [
        "for x in feature_list:\r\n",
        "  print(len(x))"
      ],
      "execution_count": 111,
      "outputs": [
        {
          "output_type": "stream",
          "text": [
            "339\n",
            "339\n",
            "339\n",
            "339\n",
            "339\n",
            "339\n",
            "339\n",
            "339\n",
            "339\n",
            "339\n",
            "339\n",
            "339\n"
          ],
          "name": "stdout"
        }
      ]
    },
    {
      "cell_type": "code",
      "metadata": {
        "id": "JVSmk6PbgqkW"
      },
      "source": [
        "data = pd.DataFrame(feature_list, index=columns).T"
      ],
      "execution_count": 112,
      "outputs": []
    },
    {
      "cell_type": "code",
      "metadata": {
        "colab": {
          "base_uri": "https://localhost:8080/",
          "height": 323
        },
        "id": "uZXr2Tbpg-pU",
        "outputId": "2dfff4f2-1e58-4786-8089-4dca8068ea8f"
      },
      "source": [
        "data.head()"
      ],
      "execution_count": 113,
      "outputs": [
        {
          "output_type": "execute_result",
          "data": {
            "text/html": [
              "<div>\n",
              "<style scoped>\n",
              "    .dataframe tbody tr th:only-of-type {\n",
              "        vertical-align: middle;\n",
              "    }\n",
              "\n",
              "    .dataframe tbody tr th {\n",
              "        vertical-align: top;\n",
              "    }\n",
              "\n",
              "    .dataframe thead th {\n",
              "        text-align: right;\n",
              "    }\n",
              "</style>\n",
              "<table border=\"1\" class=\"dataframe\">\n",
              "  <thead>\n",
              "    <tr style=\"text-align: right;\">\n",
              "      <th></th>\n",
              "      <th>X</th>\n",
              "      <th>T</th>\n",
              "      <th>S</th>\n",
              "      <th>Y</th>\n",
              "      <th>M</th>\n",
              "      <th>P</th>\n",
              "      <th>K</th>\n",
              "      <th>Notes</th>\n",
              "      <th>n_M</th>\n",
              "      <th>n_P</th>\n",
              "      <th>n_K</th>\n",
              "      <th>n_Notes</th>\n",
              "    </tr>\n",
              "  </thead>\n",
              "  <tbody>\n",
              "    <tr>\n",
              "      <th>0</th>\n",
              "      <td>1</td>\n",
              "      <td>A and D</td>\n",
              "      <td>EF</td>\n",
              "      <td>None</td>\n",
              "      <td>[4/4, 6/8]</td>\n",
              "      <td>[A, B]</td>\n",
              "      <td>[A, D]</td>\n",
              "      <td>[f|\"A\"ecc c2f|\"A\"ecc c2f|\"A\"ecc c2f|\"Bm\"BcB \"E...</td>\n",
              "      <td>2</td>\n",
              "      <td>2</td>\n",
              "      <td>2</td>\n",
              "      <td>2</td>\n",
              "    </tr>\n",
              "    <tr>\n",
              "      <th>1</th>\n",
              "      <td>2</td>\n",
              "      <td>Abacus</td>\n",
              "      <td>By Hugh Barwell, via Phil Rowe</td>\n",
              "      <td>AB</td>\n",
              "      <td>[6/8]</td>\n",
              "      <td>[]</td>\n",
              "      <td>[G]</td>\n",
              "      <td>[f|\"A\"ecc c2f|\"A\"ecc c2f|\"A\"ecc c2f|\"Bm\"BcB \"E...</td>\n",
              "      <td>1</td>\n",
              "      <td>0</td>\n",
              "      <td>1</td>\n",
              "      <td>2</td>\n",
              "    </tr>\n",
              "    <tr>\n",
              "      <th>2</th>\n",
              "      <td>3</td>\n",
              "      <td>The American Dwarf</td>\n",
              "      <td>FTB, via EF</td>\n",
              "      <td>None</td>\n",
              "      <td>[6/8]</td>\n",
              "      <td>[]</td>\n",
              "      <td>[D]</td>\n",
              "      <td>[f|\"A\"ecc c2f|\"A\"ecc c2f|\"A\"ecc c2f|\"Bm\"BcB \"E...</td>\n",
              "      <td>1</td>\n",
              "      <td>0</td>\n",
              "      <td>1</td>\n",
              "      <td>2</td>\n",
              "    </tr>\n",
              "    <tr>\n",
              "      <th>3</th>\n",
              "      <td>4</td>\n",
              "      <td>Ap Shenkin</td>\n",
              "      <td>FTB 1 p 46, via EF</td>\n",
              "      <td>None</td>\n",
              "      <td>[4/4, 6/8]</td>\n",
              "      <td>[A, B, C]</td>\n",
              "      <td>[G]</td>\n",
              "      <td>[f|\"A\"ecc c2f|\"A\"ecc c2f|\"A\"ecc c2f|\"Bm\"BcB \"E...</td>\n",
              "      <td>2</td>\n",
              "      <td>3</td>\n",
              "      <td>1</td>\n",
              "      <td>6</td>\n",
              "    </tr>\n",
              "    <tr>\n",
              "      <th>4</th>\n",
              "      <td>5</td>\n",
              "      <td>Armstrongs</td>\n",
              "      <td>Kevin Briggs, via EF</td>\n",
              "      <td>AABABAC</td>\n",
              "      <td>[6/8]</td>\n",
              "      <td>[A, B]</td>\n",
              "      <td>[A]</td>\n",
              "      <td>[f|\"A\"ecc c2f|\"A\"ecc c2f|\"A\"ecc c2f|\"Bm\"BcB \"E...</td>\n",
              "      <td>1</td>\n",
              "      <td>2</td>\n",
              "      <td>1</td>\n",
              "      <td>4</td>\n",
              "    </tr>\n",
              "  </tbody>\n",
              "</table>\n",
              "</div>"
            ],
            "text/plain": [
              "   X                   T                               S  ... n_P n_K n_Notes\n",
              "0  1             A and D                              EF  ...   2   2       2\n",
              "1  2              Abacus  By Hugh Barwell, via Phil Rowe  ...   0   1       2\n",
              "2  3  The American Dwarf                     FTB, via EF  ...   0   1       2\n",
              "3  4          Ap Shenkin              FTB 1 p 46, via EF  ...   3   1       6\n",
              "4  5          Armstrongs            Kevin Briggs, via EF  ...   2   1       4\n",
              "\n",
              "[5 rows x 12 columns]"
            ]
          },
          "metadata": {
            "tags": []
          },
          "execution_count": 113
        }
      ]
    },
    {
      "cell_type": "code",
      "metadata": {
        "id": "0NxeNzWfiHiW"
      },
      "source": [
        "data.to_csv('Generated_CSV', index=False)"
      ],
      "execution_count": 122,
      "outputs": []
    },
    {
      "cell_type": "markdown",
      "metadata": {
        "id": "WN9q8osMOBTs"
      },
      "source": [
        "\r\n",
        "\r\n",
        "---\r\n",
        "\r\n",
        "\r\n",
        "# Getting Insights\r\n",
        "\r\n",
        "\r\n",
        "\r\n",
        "---\r\n",
        "\r\n"
      ]
    },
    {
      "cell_type": "code",
      "metadata": {
        "colab": {
          "base_uri": "https://localhost:8080/"
        },
        "id": "w08JHOHTnRql",
        "outputId": "95ad55bf-002b-43c0-dc67-33aba3fd536e"
      },
      "source": [
        "data.dtypes"
      ],
      "execution_count": 121,
      "outputs": [
        {
          "output_type": "execute_result",
          "data": {
            "text/plain": [
              "X          object\n",
              "T          object\n",
              "S          object\n",
              "Y          object\n",
              "M          object\n",
              "P          object\n",
              "K          object\n",
              "Notes      object\n",
              "n_M        object\n",
              "n_P        object\n",
              "n_K        object\n",
              "n_Notes    object\n",
              "dtype: object"
            ]
          },
          "metadata": {
            "tags": []
          },
          "execution_count": 121
        }
      ]
    },
    {
      "cell_type": "code",
      "metadata": {
        "colab": {
          "base_uri": "https://localhost:8080/",
          "height": 52
        },
        "id": "o6qzZ8XplwkW",
        "outputId": "e26d8ce8-4554-4cbd-b675-4247eb0b109b"
      },
      "source": [
        "display(data.dtypes.value_counts())"
      ],
      "execution_count": 114,
      "outputs": [
        {
          "output_type": "display_data",
          "data": {
            "text/plain": [
              "object    12\n",
              "dtype: int64"
            ]
          },
          "metadata": {
            "tags": []
          }
        }
      ]
    },
    {
      "cell_type": "code",
      "metadata": {
        "colab": {
          "base_uri": "https://localhost:8080/",
          "height": 189
        },
        "id": "pdswshkjOGEj",
        "outputId": "7855ebbf-2dfe-4fbc-dc0d-63934a97812b"
      },
      "source": [
        "data.describe(include='all')"
      ],
      "execution_count": 115,
      "outputs": [
        {
          "output_type": "execute_result",
          "data": {
            "text/html": [
              "<div>\n",
              "<style scoped>\n",
              "    .dataframe tbody tr th:only-of-type {\n",
              "        vertical-align: middle;\n",
              "    }\n",
              "\n",
              "    .dataframe tbody tr th {\n",
              "        vertical-align: top;\n",
              "    }\n",
              "\n",
              "    .dataframe thead th {\n",
              "        text-align: right;\n",
              "    }\n",
              "</style>\n",
              "<table border=\"1\" class=\"dataframe\">\n",
              "  <thead>\n",
              "    <tr style=\"text-align: right;\">\n",
              "      <th></th>\n",
              "      <th>X</th>\n",
              "      <th>T</th>\n",
              "      <th>S</th>\n",
              "      <th>Y</th>\n",
              "      <th>M</th>\n",
              "      <th>P</th>\n",
              "      <th>K</th>\n",
              "      <th>Notes</th>\n",
              "      <th>n_M</th>\n",
              "      <th>n_P</th>\n",
              "      <th>n_K</th>\n",
              "      <th>n_Notes</th>\n",
              "    </tr>\n",
              "  </thead>\n",
              "  <tbody>\n",
              "    <tr>\n",
              "      <th>count</th>\n",
              "      <td>339</td>\n",
              "      <td>339</td>\n",
              "      <td>339</td>\n",
              "      <td>133</td>\n",
              "      <td>339</td>\n",
              "      <td>339</td>\n",
              "      <td>339</td>\n",
              "      <td>339</td>\n",
              "      <td>339</td>\n",
              "      <td>339</td>\n",
              "      <td>339</td>\n",
              "      <td>339</td>\n",
              "    </tr>\n",
              "    <tr>\n",
              "      <th>unique</th>\n",
              "      <td>339</td>\n",
              "      <td>330</td>\n",
              "      <td>122</td>\n",
              "      <td>19</td>\n",
              "      <td>4</td>\n",
              "      <td>9</td>\n",
              "      <td>30</td>\n",
              "      <td>339</td>\n",
              "      <td>4</td>\n",
              "      <td>6</td>\n",
              "      <td>6</td>\n",
              "      <td>9</td>\n",
              "    </tr>\n",
              "    <tr>\n",
              "      <th>top</th>\n",
              "      <td>339</td>\n",
              "      <td>Goat on the Hill</td>\n",
              "      <td>Trad, arr Phil Rowe</td>\n",
              "      <td>AB</td>\n",
              "      <td>[6/8]</td>\n",
              "      <td>[]</td>\n",
              "      <td>[D]</td>\n",
              "      <td>[f|\"A\"ecc c2f|\"A\"ecc c2f|\"A\"ecc c2f|\"Bm\"BcB \"E...</td>\n",
              "      <td>1</td>\n",
              "      <td>0</td>\n",
              "      <td>1</td>\n",
              "      <td>2</td>\n",
              "    </tr>\n",
              "    <tr>\n",
              "      <th>freq</th>\n",
              "      <td>1</td>\n",
              "      <td>2</td>\n",
              "      <td>86</td>\n",
              "      <td>85</td>\n",
              "      <td>327</td>\n",
              "      <td>205</td>\n",
              "      <td>104</td>\n",
              "      <td>1</td>\n",
              "      <td>327</td>\n",
              "      <td>205</td>\n",
              "      <td>316</td>\n",
              "      <td>193</td>\n",
              "    </tr>\n",
              "  </tbody>\n",
              "</table>\n",
              "</div>"
            ],
            "text/plain": [
              "          X                 T                    S    Y  ...  n_M  n_P  n_K n_Notes\n",
              "count   339               339                  339  133  ...  339  339  339     339\n",
              "unique  339               330                  122   19  ...    4    6    6       9\n",
              "top     339  Goat on the Hill  Trad, arr Phil Rowe   AB  ...    1    0    1       2\n",
              "freq      1                 2                   86   85  ...  327  205  316     193\n",
              "\n",
              "[4 rows x 12 columns]"
            ]
          },
          "metadata": {
            "tags": []
          },
          "execution_count": 115
        }
      ]
    },
    {
      "cell_type": "code",
      "metadata": {
        "colab": {
          "base_uri": "https://localhost:8080/"
        },
        "id": "eEimOFYujqnI",
        "outputId": "257c27df-ba92-46de-a25c-4ca1a13c955f"
      },
      "source": [
        "num_vars = data.columns[data.dtypes != 'object']\r\n",
        "cat_vars = data.columns[data.dtypes == 'object']\r\n",
        "\r\n",
        "print(num_vars)\r\n",
        "print(cat_vars)"
      ],
      "execution_count": 116,
      "outputs": [
        {
          "output_type": "stream",
          "text": [
            "Index([], dtype='object')\n",
            "Index(['X', 'T', 'S', 'Y', 'M', 'P', 'K', 'Notes', 'n_M', 'n_P', 'n_K',\n",
            "       'n_Notes'],\n",
            "      dtype='object')\n"
          ],
          "name": "stdout"
        }
      ]
    },
    {
      "cell_type": "code",
      "metadata": {
        "colab": {
          "base_uri": "https://localhost:8080/",
          "height": 417
        },
        "id": "53aX874imJkV",
        "outputId": "71d36e25-6e70-4c58-caba-6eecf9ae4af3"
      },
      "source": [
        "data[cat_vars].isnull()"
      ],
      "execution_count": 117,
      "outputs": [
        {
          "output_type": "execute_result",
          "data": {
            "text/html": [
              "<div>\n",
              "<style scoped>\n",
              "    .dataframe tbody tr th:only-of-type {\n",
              "        vertical-align: middle;\n",
              "    }\n",
              "\n",
              "    .dataframe tbody tr th {\n",
              "        vertical-align: top;\n",
              "    }\n",
              "\n",
              "    .dataframe thead th {\n",
              "        text-align: right;\n",
              "    }\n",
              "</style>\n",
              "<table border=\"1\" class=\"dataframe\">\n",
              "  <thead>\n",
              "    <tr style=\"text-align: right;\">\n",
              "      <th></th>\n",
              "      <th>X</th>\n",
              "      <th>T</th>\n",
              "      <th>S</th>\n",
              "      <th>Y</th>\n",
              "      <th>M</th>\n",
              "      <th>P</th>\n",
              "      <th>K</th>\n",
              "      <th>Notes</th>\n",
              "      <th>n_M</th>\n",
              "      <th>n_P</th>\n",
              "      <th>n_K</th>\n",
              "      <th>n_Notes</th>\n",
              "    </tr>\n",
              "  </thead>\n",
              "  <tbody>\n",
              "    <tr>\n",
              "      <th>0</th>\n",
              "      <td>False</td>\n",
              "      <td>False</td>\n",
              "      <td>False</td>\n",
              "      <td>True</td>\n",
              "      <td>False</td>\n",
              "      <td>False</td>\n",
              "      <td>False</td>\n",
              "      <td>False</td>\n",
              "      <td>False</td>\n",
              "      <td>False</td>\n",
              "      <td>False</td>\n",
              "      <td>False</td>\n",
              "    </tr>\n",
              "    <tr>\n",
              "      <th>1</th>\n",
              "      <td>False</td>\n",
              "      <td>False</td>\n",
              "      <td>False</td>\n",
              "      <td>False</td>\n",
              "      <td>False</td>\n",
              "      <td>False</td>\n",
              "      <td>False</td>\n",
              "      <td>False</td>\n",
              "      <td>False</td>\n",
              "      <td>False</td>\n",
              "      <td>False</td>\n",
              "      <td>False</td>\n",
              "    </tr>\n",
              "    <tr>\n",
              "      <th>2</th>\n",
              "      <td>False</td>\n",
              "      <td>False</td>\n",
              "      <td>False</td>\n",
              "      <td>True</td>\n",
              "      <td>False</td>\n",
              "      <td>False</td>\n",
              "      <td>False</td>\n",
              "      <td>False</td>\n",
              "      <td>False</td>\n",
              "      <td>False</td>\n",
              "      <td>False</td>\n",
              "      <td>False</td>\n",
              "    </tr>\n",
              "    <tr>\n",
              "      <th>3</th>\n",
              "      <td>False</td>\n",
              "      <td>False</td>\n",
              "      <td>False</td>\n",
              "      <td>True</td>\n",
              "      <td>False</td>\n",
              "      <td>False</td>\n",
              "      <td>False</td>\n",
              "      <td>False</td>\n",
              "      <td>False</td>\n",
              "      <td>False</td>\n",
              "      <td>False</td>\n",
              "      <td>False</td>\n",
              "    </tr>\n",
              "    <tr>\n",
              "      <th>4</th>\n",
              "      <td>False</td>\n",
              "      <td>False</td>\n",
              "      <td>False</td>\n",
              "      <td>False</td>\n",
              "      <td>False</td>\n",
              "      <td>False</td>\n",
              "      <td>False</td>\n",
              "      <td>False</td>\n",
              "      <td>False</td>\n",
              "      <td>False</td>\n",
              "      <td>False</td>\n",
              "      <td>False</td>\n",
              "    </tr>\n",
              "    <tr>\n",
              "      <th>...</th>\n",
              "      <td>...</td>\n",
              "      <td>...</td>\n",
              "      <td>...</td>\n",
              "      <td>...</td>\n",
              "      <td>...</td>\n",
              "      <td>...</td>\n",
              "      <td>...</td>\n",
              "      <td>...</td>\n",
              "      <td>...</td>\n",
              "      <td>...</td>\n",
              "      <td>...</td>\n",
              "      <td>...</td>\n",
              "    </tr>\n",
              "    <tr>\n",
              "      <th>334</th>\n",
              "      <td>False</td>\n",
              "      <td>False</td>\n",
              "      <td>False</td>\n",
              "      <td>True</td>\n",
              "      <td>False</td>\n",
              "      <td>False</td>\n",
              "      <td>False</td>\n",
              "      <td>False</td>\n",
              "      <td>False</td>\n",
              "      <td>False</td>\n",
              "      <td>False</td>\n",
              "      <td>False</td>\n",
              "    </tr>\n",
              "    <tr>\n",
              "      <th>335</th>\n",
              "      <td>False</td>\n",
              "      <td>False</td>\n",
              "      <td>False</td>\n",
              "      <td>True</td>\n",
              "      <td>False</td>\n",
              "      <td>False</td>\n",
              "      <td>False</td>\n",
              "      <td>False</td>\n",
              "      <td>False</td>\n",
              "      <td>False</td>\n",
              "      <td>False</td>\n",
              "      <td>False</td>\n",
              "    </tr>\n",
              "    <tr>\n",
              "      <th>336</th>\n",
              "      <td>False</td>\n",
              "      <td>False</td>\n",
              "      <td>False</td>\n",
              "      <td>True</td>\n",
              "      <td>False</td>\n",
              "      <td>False</td>\n",
              "      <td>False</td>\n",
              "      <td>False</td>\n",
              "      <td>False</td>\n",
              "      <td>False</td>\n",
              "      <td>False</td>\n",
              "      <td>False</td>\n",
              "    </tr>\n",
              "    <tr>\n",
              "      <th>337</th>\n",
              "      <td>False</td>\n",
              "      <td>False</td>\n",
              "      <td>False</td>\n",
              "      <td>True</td>\n",
              "      <td>False</td>\n",
              "      <td>False</td>\n",
              "      <td>False</td>\n",
              "      <td>False</td>\n",
              "      <td>False</td>\n",
              "      <td>False</td>\n",
              "      <td>False</td>\n",
              "      <td>False</td>\n",
              "    </tr>\n",
              "    <tr>\n",
              "      <th>338</th>\n",
              "      <td>False</td>\n",
              "      <td>False</td>\n",
              "      <td>False</td>\n",
              "      <td>False</td>\n",
              "      <td>False</td>\n",
              "      <td>False</td>\n",
              "      <td>False</td>\n",
              "      <td>False</td>\n",
              "      <td>False</td>\n",
              "      <td>False</td>\n",
              "      <td>False</td>\n",
              "      <td>False</td>\n",
              "    </tr>\n",
              "  </tbody>\n",
              "</table>\n",
              "<p>339 rows × 12 columns</p>\n",
              "</div>"
            ],
            "text/plain": [
              "         X      T      S      Y      M  ...  Notes    n_M    n_P    n_K  n_Notes\n",
              "0    False  False  False   True  False  ...  False  False  False  False    False\n",
              "1    False  False  False  False  False  ...  False  False  False  False    False\n",
              "2    False  False  False   True  False  ...  False  False  False  False    False\n",
              "3    False  False  False   True  False  ...  False  False  False  False    False\n",
              "4    False  False  False  False  False  ...  False  False  False  False    False\n",
              "..     ...    ...    ...    ...    ...  ...    ...    ...    ...    ...      ...\n",
              "334  False  False  False   True  False  ...  False  False  False  False    False\n",
              "335  False  False  False   True  False  ...  False  False  False  False    False\n",
              "336  False  False  False   True  False  ...  False  False  False  False    False\n",
              "337  False  False  False   True  False  ...  False  False  False  False    False\n",
              "338  False  False  False  False  False  ...  False  False  False  False    False\n",
              "\n",
              "[339 rows x 12 columns]"
            ]
          },
          "metadata": {
            "tags": []
          },
          "execution_count": 117
        }
      ]
    },
    {
      "cell_type": "code",
      "metadata": {
        "colab": {
          "base_uri": "https://localhost:8080/"
        },
        "id": "VYzR1GvHmb8l",
        "outputId": "5b9bfd42-800c-4aff-c409-2cd8437069ba"
      },
      "source": [
        "data[cat_vars].isnull().sum().sort_values(ascending=False)"
      ],
      "execution_count": 118,
      "outputs": [
        {
          "output_type": "execute_result",
          "data": {
            "text/plain": [
              "Y          206\n",
              "n_Notes      0\n",
              "n_K          0\n",
              "n_P          0\n",
              "n_M          0\n",
              "Notes        0\n",
              "K            0\n",
              "P            0\n",
              "M            0\n",
              "S            0\n",
              "T            0\n",
              "X            0\n",
              "dtype: int64"
            ]
          },
          "metadata": {
            "tags": []
          },
          "execution_count": 118
        }
      ]
    },
    {
      "cell_type": "markdown",
      "metadata": {
        "id": "fdwze8teOtKM"
      },
      "source": [
        "\r\n",
        "\r\n",
        "---\r\n",
        "# Visualizing Data\r\n",
        "\r\n",
        "\r\n",
        "\r\n",
        "---\r\n",
        "\r\n",
        "\r\n"
      ]
    },
    {
      "cell_type": "code",
      "metadata": {
        "colab": {
          "base_uri": "https://localhost:8080/",
          "height": 281
        },
        "id": "9YFAxX1OtHQc",
        "outputId": "a9512eb8-0e42-47fb-ae44-c8db17ee4654"
      },
      "source": [
        "plt.title('Parts in Melodies')\r\n",
        "plt.axis('off')\r\n",
        "plt.bar(data['T'], data['n_Notes'])"
      ],
      "execution_count": 135,
      "outputs": [
        {
          "output_type": "execute_result",
          "data": {
            "text/plain": [
              "<BarContainer object of 339 artists>"
            ]
          },
          "metadata": {
            "tags": []
          },
          "execution_count": 135
        },
        {
          "output_type": "display_data",
          "data": {
            "image/png": "[encoded data removed]",
            "text/plain": [
              "<Figure size 432x288 with 1 Axes>"
            ]
          },
          "metadata": {
            "tags": [],
            "needs_background": "light"
          }
        }
      ]
    },
    {
      "cell_type": "code",
      "metadata": {
        "colab": {
          "base_uri": "https://localhost:8080/",
          "height": 281
        },
        "id": "tj7r2dveugKc",
        "outputId": "7b381be7-727d-48dd-bc53-fc9a84c8562f"
      },
      "source": [
        "plt.title('Keys in Melodies')\r\n",
        "plt.axis('off')\r\n",
        "plt.bar(data['T'], data['n_K'])"
      ],
      "execution_count": 136,
      "outputs": [
        {
          "output_type": "execute_result",
          "data": {
            "text/plain": [
              "<BarContainer object of 339 artists>"
            ]
          },
          "metadata": {
            "tags": []
          },
          "execution_count": 136
        },
        {
          "output_type": "display_data",
          "data": {
            "image/png": "[encoded data removed]",
            "text/plain": [
              "<Figure size 432x288 with 1 Axes>"
            ]
          },
          "metadata": {
            "tags": [],
            "needs_background": "light"
          }
        }
      ]
    },
    {
      "cell_type": "code",
      "metadata": {
        "colab": {
          "base_uri": "https://localhost:8080/",
          "height": 281
        },
        "id": "EV9kzlimuv5u",
        "outputId": "21625811-8f3c-459d-ccb0-bb1c9c56b3cd"
      },
      "source": [
        "plt.title('Time signature in Melodies')\r\n",
        "plt.axis('off')\r\n",
        "plt.bar(data['T'], data['n_M'])"
      ],
      "execution_count": 137,
      "outputs": [
        {
          "output_type": "execute_result",
          "data": {
            "text/plain": [
              "<BarContainer object of 339 artists>"
            ]
          },
          "metadata": {
            "tags": []
          },
          "execution_count": 137
        },
        {
          "output_type": "display_data",
          "data": {
            "image/png": "[encoded data removed]",
            "text/plain": [
              "<Figure size 432x288 with 1 Axes>"
            ]
          },
          "metadata": {
            "tags": [],
            "needs_background": "light"
          }
        }
      ]
    }
  ]
}